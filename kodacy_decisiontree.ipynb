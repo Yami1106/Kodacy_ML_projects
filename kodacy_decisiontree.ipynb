{
 "cells": [
  {
   "cell_type": "code",
   "execution_count": 2,
   "id": "265e38d6-7559-413a-b969-99211c9ce06e",
   "metadata": {},
   "outputs": [],
   "source": [
    "import pandas as pd\n",
    "from sklearn.metrics import mean_absolute_error\n",
    "from sklearn.tree import DecisionTreeRegressor\n",
    "from sklearn.model_selection import train_test_split"
   ]
  },
  {
   "cell_type": "code",
   "execution_count": 9,
   "id": "e73dbd35-5374-4e82-b680-88539a10a519",
   "metadata": {},
   "outputs": [],
   "source": [
    "def get_mae(max_leaf_node, train_X, val,train_y,val_y):\n",
    "    model=DecisionTreeRegressor(max_leaf_nodes=max_leaf_nodes, random_state=0)\n",
    "    model.fit(train_X,train_y)\n",
    "    preds_val=model.predict(val_X)\n",
    "    mae= mean_absolute_error(val_y,preds_val)\n",
    "    return(mae)"
   ]
  },
  {
   "cell_type": "code",
   "execution_count": 10,
   "id": "24253fff-839e-45d2-b6bc-07b55534a7a6",
   "metadata": {},
   "outputs": [],
   "source": [
    "mel_file_path='Downloads/allMLdata/melb_data.csv'\n",
    "mel_data= pd.read_csv(mel_file_path)\n",
    "filtered_mel_data = mel_data.dropna(axis=0)\n",
    "y=filtered_mel_data.Price\n",
    "mel_features= ['Rooms','Bathroom','Landsize','BuildingArea','YearBuilt','Lattitude','Longtitude']\n",
    "X = filtered_mel_data[mel_features]\n",
    "train_X,val_X,train_y,val_y = train_test_split(X,y,random_state=0)"
   ]
  },
  {
   "cell_type": "code",
   "execution_count": 13,
   "id": "67d00367-b5f8-476a-ab99-0239e25b8e81",
   "metadata": {},
   "outputs": [
    {
     "name": "stdout",
     "output_type": "stream",
     "text": [
      "Best tree size : 500\n"
     ]
    }
   ],
   "source": [
    "candidate_max_leaf_nodes = [5,25,50,100,250,500]\n",
    "\n",
    "best_mae= float('inf')\n",
    "best_tree_size=None\n",
    "\n",
    "for max_leaf_nodes in candidate_max_leaf_nodes:\n",
    "    current_mae = get_mae(max_leaf_nodes, train_X, val_X,train_y,val_y)\n",
    "    if current_mae<best_mae:\n",
    "        best_mae=current_mae\n",
    "        best_tree_size = max_leaf_nodes\n",
    "print(\"Best tree size :\", best_tree_size)\n"
   ]
  },
  {
   "cell_type": "code",
   "execution_count": 14,
   "id": "f27fb6ba-55dd-4908-b704-444dd8161a24",
   "metadata": {},
   "outputs": [
    {
     "data": {
      "text/plain": [
       "DecisionTreeRegressor(max_leaf_nodes=500)"
      ]
     },
     "execution_count": 14,
     "metadata": {},
     "output_type": "execute_result"
    }
   ],
   "source": [
    "final_model = DecisionTreeRegressor(max_leaf_nodes = best_tree_size)\n",
    "final_model.fit(train_X, train_y)"
   ]
  },
  {
   "cell_type": "code",
   "execution_count": null,
   "id": "d5d588cd-420a-4f5c-90fb-0ca2a9264a50",
   "metadata": {},
   "outputs": [],
   "source": []
  }
 ],
 "metadata": {
  "kernelspec": {
   "display_name": "Python 3 (ipykernel)",
   "language": "python",
   "name": "python3"
  },
  "language_info": {
   "codemirror_mode": {
    "name": "ipython",
    "version": 3
   },
   "file_extension": ".py",
   "mimetype": "text/x-python",
   "name": "python",
   "nbconvert_exporter": "python",
   "pygments_lexer": "ipython3",
   "version": "3.8.10"
  }
 },
 "nbformat": 4,
 "nbformat_minor": 5
}
