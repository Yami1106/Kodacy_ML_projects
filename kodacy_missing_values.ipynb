{
 "cells": [
  {
   "cell_type": "code",
   "execution_count": 4,
   "id": "286b21e3-303c-460a-9339-0435b130ae12",
   "metadata": {},
   "outputs": [],
   "source": [
    "import pandas as pd\n",
    "from sklearn.model_selection import train_test_split\n",
    "\n",
    "data = pd.read_csv('Downloads/allMLdata/melb_data.csv')\n",
    "\n",
    "y=data.Price\n",
    "melb_predictors = data.drop(['Price'], axis=1)\n",
    "X=melb_predictors.select_dtypes(exclude=['object'])\n",
    "\n",
    "X_train,X_valid,y_train,y_valid = train_test_split(X,y,train_size=0.8, test_size=0.2,random_state=0)\n",
    "                            "
   ]
  },
  {
   "cell_type": "code",
   "execution_count": 5,
   "id": "e91e5921-7955-4e64-9def-6fb8d569547b",
   "metadata": {},
   "outputs": [],
   "source": [
    "from sklearn.ensemble import RandomForestRegressor\n",
    "from sklearn.metrics import mean_absolute_error\n",
    "\n",
    "def score_dataset(X_train,X_valid,y_train,y_valid):\n",
    "    model = RandomForestRegressor(n_estimators = 10, random_state=0)\n",
    "    model.fit(X_train,y_train)\n",
    "    preds = model.predict(X_valid)\n",
    "    return mean_absolute_error(y_valid, preds)"
   ]
  },
  {
   "cell_type": "code",
   "execution_count": 8,
   "id": "55ae2a28-6378-4f35-988d-7e6f711ebff0",
   "metadata": {},
   "outputs": [
    {
     "name": "stdout",
     "output_type": "stream",
     "text": [
      "MAE from approach 1 (drop columns):\n",
      "183550.22137772635\n"
     ]
    }
   ],
   "source": [
    "cols_with_missing = [col for col in X_train.columns if X_train[col].isnull().any()]\n",
    "reduced_X_train = X_train.drop(cols_with_missing, axis=1)\n",
    "reduced_X_valid = X_valid.drop(cols_with_missing, axis=1)\n",
    "\n",
    "print(\"MAE from approach 1 (drop columns):\")\n",
    "print(score_dataset(reduced_X_train, reduced_X_valid, y_train,y_valid))"
   ]
  },
  {
   "cell_type": "code",
   "execution_count": 14,
   "id": "20df92c2-709e-4539-a772-9368b797759d",
   "metadata": {},
   "outputs": [
    {
     "name": "stdout",
     "output_type": "stream",
     "text": [
      "MAE from approach 2 (imputation):\n",
      "183550.22137772635\n"
     ]
    }
   ],
   "source": [
    "from sklearn.impute import SimpleImputer\n",
    "\n",
    "my_imputer = SimpleImputer()\n",
    "imputed_X_train = pd.DataFrame(my_imputer.fit_transform(X_train))\n",
    "imputed_X_valid = pd.DataFrame(my_imputer.fit_transform(X_valid))\n",
    "imputed_X_train.columns = X_train.columns\n",
    "imputed_X_valid.columns = X_valid.columns\n",
    "\n",
    "\n",
    "print(\"MAE from approach 2 (imputation):\")\n",
    "print(score_dataset(reduced_X_train, reduced_X_valid, y_train,y_valid))"
   ]
  },
  {
   "cell_type": "code",
   "execution_count": 16,
   "id": "41b7e7e2-1710-4a50-9bdc-05cd891a3e02",
   "metadata": {},
   "outputs": [
    {
     "name": "stdout",
     "output_type": "stream",
     "text": [
      "MAE from approach 3 (extended imputation):\n",
      "183550.22137772635\n"
     ]
    }
   ],
   "source": [
    "X_train_plus = X_train.copy()\n",
    "X_valid_plus = X_valid.copy()\n",
    "\n",
    "for col in cols_with_missing:\n",
    "    X_train_plus[col+'_was_missing'] = X_train_plus[col].isnull()\n",
    "    X_valid_plus[col+'_was_missing'] = X_valid_plus[col].isnull()\n",
    "\n",
    "    \n",
    "my_imputer = SimpleImputer()\n",
    "imputed_X_train_plus = pd.DataFrame(my_imputer.fit_transform(X_train_plus))\n",
    "imputed_X_valid_plus = pd.DataFrame(my_imputer.fit_transform(X_valid_plus))\n",
    "imputed_X_train.columns = X_train.columns\n",
    "imputed_X_valid.columns = X_valid.columns\n",
    "\n",
    "\n",
    "print(\"MAE from approach 3 (extended imputation):\")\n",
    "print(score_dataset(reduced_X_train, reduced_X_valid, y_train,y_valid))"
   ]
  },
  {
   "cell_type": "code",
   "execution_count": 17,
   "id": "15a0cf27-d08e-4f1b-9151-950c8c804082",
   "metadata": {},
   "outputs": [
    {
     "name": "stdout",
     "output_type": "stream",
     "text": [
      "(10864, 12)\n",
      "Car               49\n",
      "BuildingArea    5156\n",
      "YearBuilt       4307\n",
      "dtype: int64\n"
     ]
    }
   ],
   "source": [
    "print(X_train.shape)\n",
    "\n",
    "missing_val_count_by_column = (X_train.isnull().sum())\n",
    "print(missing_val_count_by_column[missing_val_count_by_column > 0])"
   ]
  },
  {
   "cell_type": "code",
   "execution_count": null,
   "id": "e1f4eddb-a932-4701-a55c-eb2f9aa10229",
   "metadata": {},
   "outputs": [],
   "source": []
  }
 ],
 "metadata": {
  "kernelspec": {
   "display_name": "Python 3 (ipykernel)",
   "language": "python",
   "name": "python3"
  },
  "language_info": {
   "codemirror_mode": {
    "name": "ipython",
    "version": 3
   },
   "file_extension": ".py",
   "mimetype": "text/x-python",
   "name": "python",
   "nbconvert_exporter": "python",
   "pygments_lexer": "ipython3",
   "version": "3.8.10"
  }
 },
 "nbformat": 4,
 "nbformat_minor": 5
}
