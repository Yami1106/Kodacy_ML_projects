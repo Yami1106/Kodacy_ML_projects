{
 "cells": [
  {
   "cell_type": "code",
   "execution_count": 1,
   "id": "053e8a9e-61c1-4fc8-8e6f-f356b556e288",
   "metadata": {},
   "outputs": [],
   "source": [
    "import pandas as pd\n",
    "from sklearn.metrics import mean_absolute_error\n",
    "from sklearn.ensemble import RandomForestRegressor\n",
    "from sklearn.model_selection import train_test_split"
   ]
  },
  {
   "cell_type": "code",
   "execution_count": 2,
   "id": "30924a1b-274d-403b-a432-b1061b797766",
   "metadata": {},
   "outputs": [],
   "source": [
    "mel_file_path='Downloads/allMLdata/melb_data.csv'\n",
    "mel_data= pd.read_csv(mel_file_path)\n",
    "filtered_mel_data = mel_data.dropna(axis=0)\n",
    "y=filtered_mel_data.Price\n",
    "mel_features= ['Rooms','Bathroom','Landsize','BuildingArea','YearBuilt','Lattitude','Longtitude']\n",
    "X = filtered_mel_data[mel_features]\n",
    "train_X,val_X,train_y,val_y = train_test_split(X,y,random_state=0)"
   ]
  },
  {
   "cell_type": "code",
   "execution_count": 3,
   "id": "7285b63b-d842-44ce-bde0-5b2e345af982",
   "metadata": {},
   "outputs": [
    {
     "name": "stdout",
     "output_type": "stream",
     "text": [
      "191669.7536453626\n"
     ]
    }
   ],
   "source": [
    "forest_model = RandomForestRegressor(random_state = 1)\n",
    "forest_model.fit(train_X,train_y)\n",
    "mel_preds = forest_model.predict(val_X)\n",
    "print(mean_absolute_error(val_y,mel_preds))"
   ]
  },
  {
   "cell_type": "code",
   "execution_count": null,
   "id": "ecb02cb4-240f-42f9-b70d-95b372d021b8",
   "metadata": {},
   "outputs": [],
   "source": []
  }
 ],
 "metadata": {
  "kernelspec": {
   "display_name": "Python 3 (ipykernel)",
   "language": "python",
   "name": "python3"
  },
  "language_info": {
   "codemirror_mode": {
    "name": "ipython",
    "version": 3
   },
   "file_extension": ".py",
   "mimetype": "text/x-python",
   "name": "python",
   "nbconvert_exporter": "python",
   "pygments_lexer": "ipython3",
   "version": "3.8.10"
  }
 },
 "nbformat": 4,
 "nbformat_minor": 5
}
